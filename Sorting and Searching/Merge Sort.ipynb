{
 "cells": [
  {
   "cell_type": "markdown",
   "metadata": {},
   "source": [
    "# Merge Sort Implementation "
   ]
  },
  {
   "cell_type": "code",
   "execution_count": 28,
   "metadata": {},
   "outputs": [],
   "source": [
    "arr=[12,3,42,9,32,321,4,33,2,3,42,21,9,4,38]"
   ]
  },
  {
   "cell_type": "code",
   "execution_count": 29,
   "metadata": {},
   "outputs": [],
   "source": [
    "def mergeSort(arr):\n",
    "    \n",
    "    if(len(arr)<2):\n",
    "        return\n",
    "    #mid point of array\n",
    "    mid=len(arr)//2\n",
    "    \n",
    "    #split into left and right part\n",
    "    lArr=arr[:mid]\n",
    "    rArr=arr[mid:]\n",
    "    #Uncomment below print statements to\n",
    "    print(\"left part: \",lArr)\n",
    "    print(\"right part: \",rArr)\n",
    "    print(\"\\n________\")\n",
    "    #call mergeSort on left and right part of array recursively\n",
    "    mergeSort(lArr)\n",
    "    mergeSort(rArr)\n",
    "    \n",
    "    \n",
    "    l=0\n",
    "    r=0\n",
    "    o=0\n",
    "    \n",
    "    while l<len(lArr) and r<len(rArr):\n",
    "        if lArr[l] <rArr[r]:\n",
    "            arr[o]=lArr[l]\n",
    "            l+=1\n",
    "        else:\n",
    "            arr[o]=rArr[r]\n",
    "            r+=1\n",
    "        o+=1\n",
    "    while l<len(lArr):\n",
    "        arr[o]=lArr[l]\n",
    "        l+=1\n",
    "        o+=1\n",
    "    while r<len(rArr):\n",
    "        arr[o]=rArr[r]\n",
    "        r+=1\n",
    "        o+=1\n",
    "        "
   ]
  },
  {
   "cell_type": "code",
   "execution_count": 30,
   "metadata": {},
   "outputs": [
    {
     "name": "stdout",
     "output_type": "stream",
     "text": [
      "left part:  [12, 3, 42, 9, 32, 321, 4]\n",
      "right part:  [33, 2, 3, 42, 21, 9, 4, 38]\n",
      "\n",
      "________\n",
      "left part:  [12, 3, 42]\n",
      "right part:  [9, 32, 321, 4]\n",
      "\n",
      "________\n",
      "left part:  [12]\n",
      "right part:  [3, 42]\n",
      "\n",
      "________\n",
      "left part:  [3]\n",
      "right part:  [42]\n",
      "\n",
      "________\n",
      "left part:  [9, 32]\n",
      "right part:  [321, 4]\n",
      "\n",
      "________\n",
      "left part:  [9]\n",
      "right part:  [32]\n",
      "\n",
      "________\n",
      "left part:  [321]\n",
      "right part:  [4]\n",
      "\n",
      "________\n",
      "left part:  [33, 2, 3, 42]\n",
      "right part:  [21, 9, 4, 38]\n",
      "\n",
      "________\n",
      "left part:  [33, 2]\n",
      "right part:  [3, 42]\n",
      "\n",
      "________\n",
      "left part:  [33]\n",
      "right part:  [2]\n",
      "\n",
      "________\n",
      "left part:  [3]\n",
      "right part:  [42]\n",
      "\n",
      "________\n",
      "left part:  [21, 9]\n",
      "right part:  [4, 38]\n",
      "\n",
      "________\n",
      "left part:  [21]\n",
      "right part:  [9]\n",
      "\n",
      "________\n",
      "left part:  [4]\n",
      "right part:  [38]\n",
      "\n",
      "________\n"
     ]
    }
   ],
   "source": [
    "mergeSort(arr)"
   ]
  },
  {
   "cell_type": "code",
   "execution_count": 27,
   "metadata": {},
   "outputs": [
    {
     "data": {
      "text/plain": [
       "[2, 3, 3, 4, 4, 9, 9, 12, 21, 32, 33, 38, 42, 42, 321]"
      ]
     },
     "execution_count": 27,
     "metadata": {},
     "output_type": "execute_result"
    }
   ],
   "source": [
    "arr"
   ]
  },
  {
   "cell_type": "code",
   "execution_count": null,
   "metadata": {},
   "outputs": [],
   "source": []
  }
 ],
 "metadata": {
  "kernelspec": {
   "display_name": "Python 3",
   "language": "python",
   "name": "python3"
  },
  "language_info": {
   "codemirror_mode": {
    "name": "ipython",
    "version": 3
   },
   "file_extension": ".py",
   "mimetype": "text/x-python",
   "name": "python",
   "nbconvert_exporter": "python",
   "pygments_lexer": "ipython3",
   "version": "3.7.4"
  }
 },
 "nbformat": 4,
 "nbformat_minor": 2
}
