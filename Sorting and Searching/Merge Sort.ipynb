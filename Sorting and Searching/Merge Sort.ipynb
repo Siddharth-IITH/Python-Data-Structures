{
 "cells": [
  {
   "cell_type": "markdown",
   "metadata": {},
   "source": [
    "# Merge Sort Implementation "
   ]
  },
  {
   "cell_type": "code",
   "execution_count": 28,
   "metadata": {},
   "outputs": [],
   "source": [
    "arr=[12,3,42,9,32,321,4,33,2,3,42,21,9,4,38]"
   ]
  },
  {
   "cell_type": "code",
   "execution_count": 31,
   "metadata": {},
   "outputs": [],
   "source": [
    "def mergeSort(arr):\n",
    "    \n",
    "    if(len(arr)<2):\n",
    "        return\n",
    "    #mid point of array\n",
    "    mid=len(arr)//2\n",
    "    \n",
    "    #split into left and right part\n",
    "    lArr=arr[:mid]\n",
    "    rArr=arr[mid:]\n",
    "    #Uncomment below print statements to see how it works\n",
    "#     print(\"left part: \",lArr)\n",
    "#     print(\"right part: \",rArr)\n",
    "#     print(\"\\n________\")\n",
    "    #call mergeSort on left and right part of array recursively\n",
    "    mergeSort(lArr)\n",
    "    mergeSort(rArr)\n",
    "    \n",
    "    \n",
    "    l=0\n",
    "    r=0\n",
    "    o=0\n",
    "    \n",
    "    while l<len(lArr) and r<len(rArr):\n",
    "        if lArr[l] <rArr[r]:\n",
    "            arr[o]=lArr[l]\n",
    "            l+=1\n",
    "        else:\n",
    "            arr[o]=rArr[r]\n",
    "            r+=1\n",
    "        o+=1\n",
    "    while l<len(lArr):\n",
    "        arr[o]=lArr[l]\n",
    "        l+=1\n",
    "        o+=1\n",
    "    while r<len(rArr):\n",
    "        arr[o]=rArr[r]\n",
    "        r+=1\n",
    "        o+=1\n",
    "        "
   ]
  },
  {
   "cell_type": "code",
   "execution_count": 32,
   "metadata": {},
   "outputs": [],
   "source": [
    "mergeSort(arr)"
   ]
  },
  {
   "cell_type": "code",
   "execution_count": 33,
   "metadata": {},
   "outputs": [
    {
     "data": {
      "text/plain": [
       "[2, 3, 3, 4, 4, 9, 9, 12, 21, 32, 33, 38, 42, 42, 321]"
      ]
     },
     "execution_count": 33,
     "metadata": {},
     "output_type": "execute_result"
    }
   ],
   "source": [
    "arr"
   ]
  },
  {
   "cell_type": "code",
   "execution_count": null,
   "metadata": {},
   "outputs": [],
   "source": []
  }
 ],
 "metadata": {
  "kernelspec": {
   "display_name": "Python 3",
   "language": "python",
   "name": "python3"
  },
  "language_info": {
   "codemirror_mode": {
    "name": "ipython",
    "version": 3
   },
   "file_extension": ".py",
   "mimetype": "text/x-python",
   "name": "python",
   "nbconvert_exporter": "python",
   "pygments_lexer": "ipython3",
   "version": "3.7.4"
  }
 },
 "nbformat": 4,
 "nbformat_minor": 2
}
