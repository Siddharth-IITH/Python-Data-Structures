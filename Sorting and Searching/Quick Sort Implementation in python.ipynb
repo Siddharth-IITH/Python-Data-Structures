{
 "cells": [
  {
   "cell_type": "markdown",
   "metadata": {},
   "source": [
    "# Quick Sort Algorithm"
   ]
  },
  {
   "cell_type": "markdown",
   "metadata": {},
   "source": [
    "Swapping Function"
   ]
  },
  {
   "cell_type": "code",
   "execution_count": 192,
   "metadata": {},
   "outputs": [],
   "source": [
    "def swap(a,b):\n",
    "    return b,a"
   ]
  },
  {
   "cell_type": "code",
   "execution_count": 193,
   "metadata": {},
   "outputs": [],
   "source": [
    "def quickSort(arr, begin, end):\n",
    "    \n",
    "    #checking base condition to stop recursion\n",
    "    if begin>=end:\n",
    "        return\n",
    "    \n",
    "    else:\n",
    "        pivot=partition(arr,begin,end)\n",
    "        print(\"Pivot: \", arr[pivot])\n",
    "        print(\"current array state: \",arr)\n",
    "        print(\"_____\\n\")\n",
    "        quickSort(arr,begin,pivot-1)\n",
    "        quickSort(arr,pivot+1, end)\n",
    "        "
   ]
  },
  {
   "cell_type": "code",
   "execution_count": 194,
   "metadata": {},
   "outputs": [],
   "source": [
    "def partition(arr,begin, end):\n",
    "    \n",
    "    pivot=arr[end] #make pivot set to the end\n",
    "    \n",
    "    part_index=begin #make \n",
    "    \n",
    "    for i in range(begin,end):\n",
    "        if arr[i]<=pivot:\n",
    "            arr[i],arr[part_index]=swap(arr[i],arr[part_index]) #swapping\n",
    "            part_index+=1\n",
    "    \n",
    "    arr[part_index],arr[end]=swap(arr[part_index],arr[end])#swapping\n",
    "    return part_index"
   ]
  },
  {
   "cell_type": "code",
   "execution_count": 195,
   "metadata": {},
   "outputs": [],
   "source": [
    "arr=[9,77,1,222,2,3,44,16]"
   ]
  },
  {
   "cell_type": "code",
   "execution_count": 196,
   "metadata": {},
   "outputs": [
    {
     "name": "stdout",
     "output_type": "stream",
     "text": [
      "Pivot:  16\n",
      "current array state:  [9, 1, 2, 3, 16, 222, 44, 77]\n",
      "_____\n",
      "\n",
      "Pivot:  3\n",
      "current array state:  [1, 2, 3, 9, 16, 222, 44, 77]\n",
      "_____\n",
      "\n",
      "Pivot:  2\n",
      "current array state:  [1, 2, 3, 9, 16, 222, 44, 77]\n",
      "_____\n",
      "\n",
      "Pivot:  77\n",
      "current array state:  [1, 2, 3, 9, 16, 44, 77, 222]\n",
      "_____\n",
      "\n"
     ]
    }
   ],
   "source": [
    "quickSort(arr,0,len(arr)-1)"
   ]
  },
  {
   "cell_type": "code",
   "execution_count": 197,
   "metadata": {},
   "outputs": [
    {
     "data": {
      "text/plain": [
       "[1, 2, 3, 9, 16, 44, 77, 222]"
      ]
     },
     "execution_count": 197,
     "metadata": {},
     "output_type": "execute_result"
    }
   ],
   "source": [
    "arr"
   ]
  },
  {
   "cell_type": "code",
   "execution_count": null,
   "metadata": {},
   "outputs": [],
   "source": []
  },
  {
   "cell_type": "code",
   "execution_count": null,
   "metadata": {},
   "outputs": [],
   "source": []
  }
 ],
 "metadata": {
  "kernelspec": {
   "display_name": "Python 3",
   "language": "python",
   "name": "python3"
  },
  "language_info": {
   "codemirror_mode": {
    "name": "ipython",
    "version": 3
   },
   "file_extension": ".py",
   "mimetype": "text/x-python",
   "name": "python",
   "nbconvert_exporter": "python",
   "pygments_lexer": "ipython3",
   "version": "3.7.4"
  }
 },
 "nbformat": 4,
 "nbformat_minor": 2
}
