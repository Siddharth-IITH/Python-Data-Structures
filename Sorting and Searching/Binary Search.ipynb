{
 "cells": [
  {
   "cell_type": "code",
   "execution_count": 13,
   "metadata": {},
   "outputs": [],
   "source": [
    "arr=[1,2,3,4,5,6,7,8,9,10]\n"
   ]
  },
  {
   "cell_type": "code",
   "execution_count": 16,
   "metadata": {},
   "outputs": [],
   "source": [
    "def binarySearch(arr,ele):\n",
    "    first=0\n",
    "    last=len(arr)-1\n",
    "    found=False\n",
    "    \n",
    "    \n",
    "    while first<=last and not found:\n",
    "        mid=(first+last)//2\n",
    "        \n",
    "        if arr[mid]==ele:\n",
    "            found =True\n",
    "        else:\n",
    "            if arr[mid]>ele:\n",
    "                last=mid-1\n",
    "            else:\n",
    "                first=mid+1\n",
    "    return found\n",
    "        \n",
    "        "
   ]
  },
  {
   "cell_type": "code",
   "execution_count": 22,
   "metadata": {
    "scrolled": true
   },
   "outputs": [
    {
     "data": {
      "text/plain": [
       "True"
      ]
     },
     "execution_count": 22,
     "metadata": {},
     "output_type": "execute_result"
    }
   ],
   "source": [
    "binarySearch(arr,10)"
   ]
  },
  {
   "cell_type": "markdown",
   "metadata": {},
   "source": [
    "# Recursive Binary Search"
   ]
  },
  {
   "cell_type": "code",
   "execution_count": 30,
   "metadata": {},
   "outputs": [],
   "source": [
    "def recBinarySearch(arr,ele):\n",
    "    \n",
    "    if len(arr)==0:\n",
    "        return False\n",
    "    else:\n",
    "        mid=len(arr)//2\n",
    "        \n",
    "        if arr[mid]==ele:\n",
    "            return True\n",
    "        else:\n",
    "            if arr[mid]>ele:\n",
    "                return recBinarySearch(arr[:mid],ele)\n",
    "            else:\n",
    "                return recBinarySearch(arr[mid+1:],ele)\n",
    "        "
   ]
  },
  {
   "cell_type": "code",
   "execution_count": 33,
   "metadata": {},
   "outputs": [
    {
     "data": {
      "text/plain": [
       "True"
      ]
     },
     "execution_count": 33,
     "metadata": {},
     "output_type": "execute_result"
    }
   ],
   "source": [
    "recBinarySearch(arr,2)"
   ]
  },
  {
   "cell_type": "code",
   "execution_count": null,
   "metadata": {},
   "outputs": [],
   "source": []
  },
  {
   "cell_type": "code",
   "execution_count": null,
   "metadata": {},
   "outputs": [],
   "source": []
  }
 ],
 "metadata": {
  "kernelspec": {
   "display_name": "Python 3",
   "language": "python",
   "name": "python3"
  },
  "language_info": {
   "codemirror_mode": {
    "name": "ipython",
    "version": 3
   },
   "file_extension": ".py",
   "mimetype": "text/x-python",
   "name": "python",
   "nbconvert_exporter": "python",
   "pygments_lexer": "ipython3",
   "version": "3.7.4"
  }
 },
 "nbformat": 4,
 "nbformat_minor": 2
}
