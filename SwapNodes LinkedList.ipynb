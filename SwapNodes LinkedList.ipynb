{
 "cells": [
  {
   "cell_type": "code",
   "execution_count": 6,
   "metadata": {},
   "outputs": [
    {
     "name": "stdout",
     "output_type": "stream",
     "text": [
      "2\n",
      "3\n",
      "4\n",
      "5\n",
      "6\n",
      "7\n"
     ]
    }
   ],
   "source": [
    "class LinkedList():\n",
    "    def __init__(self):\n",
    "         self.head=None\n",
    "    \n",
    "    class Node(object):\n",
    "        \n",
    "        def __init__(self, data):\n",
    "            self.data=data\n",
    "            self.next=None\n",
    "    \n",
    "    def swapNodes(self,x,y):\n",
    "        \n",
    "        if x==y:\n",
    "            return\n",
    "        \n",
    "        Pos1=self.head\n",
    "        Pos2=self.head\n",
    "        xPos=None\n",
    "        yPos=None\n",
    "        foundX=False\n",
    "        foundY=False\n",
    "        \n",
    "        while not foundX and not foundY:\n",
    "            print(\"Pos1.data\",Pos1.data, \"Pos2.data\",Pos2.data)\n",
    "            if not foundX:\n",
    "                if Pos1.data==x:\n",
    "                    foundX=True\n",
    "                    xPos=Pos1\n",
    "                Pos1=Pos1.next\n",
    "            if not foundY:\n",
    "                if Pos2.data==y:\n",
    "                    foundY=True\n",
    "                    yPos=Pos2\n",
    "                Pos2=Pos2.next\n",
    "                \n",
    "        while not foundX:\n",
    "            if not foundX:\n",
    "                if Pos1.data==x:\n",
    "                    foundX=True\n",
    "                    xPos=Pos1\n",
    "                Pos1=Pos1.next\n",
    "\n",
    "        while not foundY:\n",
    "            if not foundY:\n",
    "                if Pos2.data==y:\n",
    "                    foundY=True\n",
    "                    yPos=Pos2\n",
    "                Pos2=Pos2.next\n",
    "                \n",
    "        temp=xPos.data\n",
    "        xPos.data=yPos.data\n",
    "        yPos.data=temp\n",
    "    \n",
    "    def push(self,data):\n",
    "        \n",
    "        if self.head==None:\n",
    "            self.head=self.Node(data)\n",
    "        else:\n",
    "            curr=self.head\n",
    "            while(curr.next!=None):\n",
    "                curr=curr.next\n",
    "            new_node=self.Node(data)\n",
    "            curr.next=new_node\n",
    "        \n",
    "    def printlist(self):\n",
    "        curr=self.head\n",
    "        while(curr!=None):\n",
    "            print(curr.data)\n",
    "            curr=curr.next\n",
    "            \n",
    "llist=LinkedList()\n",
    "llist.push(2)\n",
    "llist.push(3)\n",
    "llist.push(4)\n",
    "llist.push(5)\n",
    "llist.push(6)\n",
    "llist.push(7)\n",
    "llist.printlist()\n",
    "\n",
    "                \n",
    "                \n",
    "            \n",
    "        \n",
    "        "
   ]
  },
  {
   "cell_type": "code",
   "execution_count": 7,
   "metadata": {},
   "outputs": [
    {
     "name": "stdout",
     "output_type": "stream",
     "text": [
      "Pos1.data 2 Pos2.data 2\n",
      "Pos1.data 3 Pos2.data 3\n",
      "----\n",
      "---\n"
     ]
    }
   ],
   "source": [
    "llist.swapNodes(3,6)\n",
    "print(\"----\\n---\")\n",
    "                "
   ]
  },
  {
   "cell_type": "code",
   "execution_count": 8,
   "metadata": {},
   "outputs": [
    {
     "name": "stdout",
     "output_type": "stream",
     "text": [
      "2\n",
      "6\n",
      "4\n",
      "5\n",
      "3\n",
      "7\n"
     ]
    }
   ],
   "source": [
    "llist.printlist()"
   ]
  },
  {
   "cell_type": "code",
   "execution_count": 9,
   "metadata": {},
   "outputs": [
    {
     "name": "stdout",
     "output_type": "stream",
     "text": [
      "Pos1.data 2 Pos2.data 2\n",
      "----\n",
      "---\n"
     ]
    }
   ],
   "source": [
    "llist.swapNodes(2,7)\n",
    "print(\"----\\n---\")\n",
    "                "
   ]
  },
  {
   "cell_type": "code",
   "execution_count": 10,
   "metadata": {},
   "outputs": [
    {
     "name": "stdout",
     "output_type": "stream",
     "text": [
      "7\n",
      "6\n",
      "4\n",
      "5\n",
      "3\n",
      "2\n"
     ]
    }
   ],
   "source": [
    "llist.printlist()"
   ]
  },
  {
   "cell_type": "code",
   "execution_count": null,
   "metadata": {},
   "outputs": [],
   "source": []
  }
 ],
 "metadata": {
  "kernelspec": {
   "display_name": "Python 3",
   "language": "python",
   "name": "python3"
  },
  "language_info": {
   "codemirror_mode": {
    "name": "ipython",
    "version": 3
   },
   "file_extension": ".py",
   "mimetype": "text/x-python",
   "name": "python",
   "nbconvert_exporter": "python",
   "pygments_lexer": "ipython3",
   "version": "3.7.4"
  }
 },
 "nbformat": 4,
 "nbformat_minor": 2
}
